{
  "nbformat": 4,
  "nbformat_minor": 0,
  "metadata": {
    "colab": {
      "provenance": [],
      "authorship_tag": "ABX9TyPzlOnhJI7e96W7/Trpzzwv",
      "include_colab_link": true
    },
    "kernelspec": {
      "name": "python3",
      "display_name": "Python 3"
    },
    "language_info": {
      "name": "python"
    }
  },
  "cells": [
    {
      "cell_type": "markdown",
      "metadata": {
        "id": "view-in-github",
        "colab_type": "text"
      },
      "source": [
        "<a href=\"https://colab.research.google.com/github/SpandanM110/Video-URL-Downloader/blob/main/Loom_Link_Download.ipynb\" target=\"_parent\"><img src=\"https://colab.research.google.com/assets/colab-badge.svg\" alt=\"Open In Colab\"/></a>"
      ]
    },
    {
      "cell_type": "code",
      "source": [
        "!pip install requests\n"
      ],
      "metadata": {
        "colab": {
          "base_uri": "https://localhost:8080/"
        },
        "id": "BYuxVHgoxG10",
        "outputId": "4ec9c583-6bcf-4c18-9eec-704285700d04"
      },
      "execution_count": null,
      "outputs": [
        {
          "output_type": "stream",
          "name": "stdout",
          "text": [
            "Requirement already satisfied: requests in /usr/local/lib/python3.10/dist-packages (2.31.0)\n",
            "Requirement already satisfied: charset-normalizer<4,>=2 in /usr/local/lib/python3.10/dist-packages (from requests) (3.2.0)\n",
            "Requirement already satisfied: idna<4,>=2.5 in /usr/local/lib/python3.10/dist-packages (from requests) (3.4)\n",
            "Requirement already satisfied: urllib3<3,>=1.21.1 in /usr/local/lib/python3.10/dist-packages (from requests) (2.0.4)\n",
            "Requirement already satisfied: certifi>=2017.4.17 in /usr/local/lib/python3.10/dist-packages (from requests) (2023.7.22)\n"
          ]
        }
      ]
    },
    {
      "cell_type": "code",
      "execution_count": null,
      "metadata": {
        "colab": {
          "base_uri": "https://localhost:8080/"
        },
        "id": "VxyM7AkvuprH",
        "outputId": "195f4b4d-00fe-4e88-c149-f736e8639ae8"
      },
      "outputs": [
        {
          "output_type": "stream",
          "name": "stdout",
          "text": [
            "Request exception occurred: HTTPSConnectionPool(host='api.loom.com', port=443): Max retries exceeded with url: /v1/videos/73132ef669de4ad9aa0137cf4bf8282e (Caused by NameResolutionError(\"<urllib3.connection.HTTPSConnection object at 0x7c4664e60f70>: Failed to resolve 'api.loom.com' ([Errno -2] Name or service not known)\"))\n"
          ]
        }
      ],
      "source": [
        "import requests\n",
        "\n",
        "def fetch_loom_download_url(loom_url):\n",
        "    # Extract video ID from the Loom URL\n",
        "    video_id = loom_url.split('/')[-1].split('?')[0]\n",
        "\n",
        "    # Loom API URL to get the download link\n",
        "    api_url = f\"https://api.loom.com/v1/videos/{video_id}\"\n",
        "\n",
        "    headers = {\n",
        "        \"User-Agent\": \"Mozilla/5.0\",  # User agent to simulate a browser request\n",
        "    }\n",
        "\n",
        "    try:\n",
        "        response = requests.get(api_url, headers=headers)\n",
        "        response.raise_for_status()\n",
        "        data = response.json()\n",
        "        download_url = data[\"data\"][\"attributes\"][\"download_url\"]\n",
        "        return download_url\n",
        "    except requests.exceptions.HTTPError as e:\n",
        "        print(f\"HTTP error occurred: {e}\")\n",
        "    except requests.exceptions.RequestException as e:\n",
        "        print(f\"Request exception occurred: {e}\")\n",
        "    except KeyError as e:\n",
        "        print(f\"KeyError occurred: {e}\")\n",
        "\n",
        "    return None\n",
        "\n",
        "def download_loom_video(download_url, filename):\n",
        "    try:\n",
        "        response = requests.get(download_url)\n",
        "        response.raise_for_status()\n",
        "        with open(filename, 'wb') as f:\n",
        "            f.write(response.content)\n",
        "        print(f\"Downloaded video and saved to {filename}\")\n",
        "    except requests.exceptions.HTTPError as e:\n",
        "        print(f\"HTTP error occurred during download: {e}\")\n",
        "    except requests.exceptions.RequestException as e:\n",
        "        print(f\"Request exception occurred during download: {e}\")\n",
        "\n",
        "# Replace with your Loom video URL\n",
        "loom_url = \"https://www.loom.com/share/73132ef669de4ad9aa0137cf4bf8282e?sid=8fd8f7a0-350e-4ecc-b6ca-9f3e885f7ee1\"\n",
        "\n",
        "# Define the output filename\n",
        "output_filename = \"my_video.mp4\"\n",
        "\n",
        "# Fetch the Loom video download URL\n",
        "download_url = fetch_loom_download_url(loom_url)\n",
        "\n",
        "# Download the video\n",
        "if download_url:\n",
        "    download_loom_video(download_url, output_filename)\n"
      ]
    }
  ]
}